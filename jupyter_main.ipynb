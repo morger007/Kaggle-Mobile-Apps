{
 "cells": [
  {
   "cell_type": "markdown",
   "metadata": {},
   "source": [
    "## All imports:"
   ]
  },
  {
   "cell_type": "code",
   "execution_count": 1,
   "metadata": {},
   "outputs": [
    {
     "ename": "ModuleNotFoundError",
     "evalue": "No module named 'seaborn'",
     "output_type": "error",
     "traceback": [
      "\u001B[0;31m---------------------------------------------------------------------------\u001B[0m",
      "\u001B[0;31mModuleNotFoundError\u001B[0m                       Traceback (most recent call last)",
      "\u001B[0;32m<ipython-input-1-a99a454430e7>\u001B[0m in \u001B[0;36m<module>\u001B[0;34m\u001B[0m\n\u001B[1;32m      2\u001B[0m \u001B[0;32mimport\u001B[0m \u001B[0mnumpy\u001B[0m \u001B[0;32mas\u001B[0m \u001B[0mnp\u001B[0m\u001B[0;34m\u001B[0m\u001B[0;34m\u001B[0m\u001B[0m\n\u001B[1;32m      3\u001B[0m \u001B[0;32mimport\u001B[0m \u001B[0mmatplotlib\u001B[0m\u001B[0;34m.\u001B[0m\u001B[0mpyplot\u001B[0m \u001B[0;32mas\u001B[0m \u001B[0mplt\u001B[0m\u001B[0;34m\u001B[0m\u001B[0;34m\u001B[0m\u001B[0m\n\u001B[0;32m----> 4\u001B[0;31m \u001B[0;32mimport\u001B[0m \u001B[0mseaborn\u001B[0m \u001B[0;32mas\u001B[0m \u001B[0msns\u001B[0m\u001B[0;34m\u001B[0m\u001B[0;34m\u001B[0m\u001B[0m\n\u001B[0m\u001B[1;32m      5\u001B[0m \u001B[0mpd\u001B[0m\u001B[0;34m.\u001B[0m\u001B[0mset_option\u001B[0m\u001B[0;34m(\u001B[0m\u001B[0;34m'display.float_format'\u001B[0m\u001B[0;34m,\u001B[0m \u001B[0;32mlambda\u001B[0m \u001B[0mx\u001B[0m\u001B[0;34m:\u001B[0m \u001B[0;34m'%.1f'\u001B[0m \u001B[0;34m%\u001B[0m \u001B[0mx\u001B[0m\u001B[0;34m)\u001B[0m\u001B[0;34m\u001B[0m\u001B[0;34m\u001B[0m\u001B[0m\n",
      "\u001B[0;31mModuleNotFoundError\u001B[0m: No module named 'seaborn'"
     ]
    }
   ],
   "source": [
    "import pandas as pd\n",
    "import numpy as np\n",
    "import matplotlib.pyplot as plt\n",
    "import seaborn as sns\n",
    "pd.set_option('display.float_format', lambda x: '%.1f' % x)"
   ]
  },
  {
   "cell_type": "markdown",
   "metadata": {},
   "source": [
    "## Working with data:"
   ]
  },
  {
   "cell_type": "code",
   "execution_count": null,
   "metadata": {},
   "outputs": [],
   "source": [
    "apple_store = pd.read_csv(\"appstore/AppleStore.csv\")\n",
    "apple_store_desc = pd.read_csv(\"appstore/appleStore_description.csv\")\n",
    "# importing all data for AppStore \n",
    "\n",
    "\n",
    "apple_store = apple_store.drop(['id', 'Unnamed: 0'], axis=1).astype({'size_bytes': 'int64',})\\\n",
    ".rename({'rating_count_tot': 'rating_count_total', 'user_rating': 'rating', 'track_name': 'app'}, axis=1)"
   ]
  },
  {
   "cell_type": "code",
   "execution_count": null,
   "metadata": {},
   "outputs": [],
   "source": [
    "google_play_store = pd.read_csv(\"googleplay/googleplaystore.csv\")\n",
    "google_play_store_reviews = pd.read_csv(\"googleplay/googleplaystore_user_reviews.csv\")\n",
    "# importing all data for GooglePlay\n",
    "\n",
    "\n",
    "\n",
    "for index in google_play_store.index:\n",
    "    size = google_play_store.loc[index, 'Size']\n",
    "    installs = google_play_store.loc[index, 'Installs']\n",
    "    price = google_play_store.loc[index, 'Price']\n",
    "    if installs.find(\"+\") != -1:\n",
    "        google_play_store.loc[index, 'Installs'] = installs[:-1].replace(\",\", \"\")\n",
    "    if size.find(\"M\") != -1:\n",
    "        google_play_store.loc[index, 'Size'] = float(size[:-1]) * 125000 \n",
    "        # removing \"M\" changing type from str to float and converting to bytes \n",
    "    elif size.find(\"k\") != -1:\n",
    "        google_play_store.loc[index, 'Size'] = float(size[:-1]) * 1000 \n",
    "        # removing \"k\" changing type from str to float and converting to bytes \n",
    "    elif size.find('Varies') != -1:\n",
    "        google_play_store.loc[index, 'Size'] = -1\n",
    "    if price.find(\"$\") != -1:\n",
    "        google_play_store.loc[index, 'Price'] = price[1:]\n",
    "        \n",
    "        \n",
    "google_play_store = google_play_store.astype({\"Reviews\": 'int32', \"Rating\": float, \"Installs\": 'int32', \"Size\": float, 'Price': float})\\\n",
    ".rename({'Size': 'size_bytes', 'Reviews': 'rating_count_total', 'Rating': 'rating', 'App': 'app', 'Current Ver': \"ver\", 'Price': 'price', 'Installs': 'installs'}, axis=1)\n",
    "\n",
    "\n",
    "# make apple store genres and google play store categories with equal names\n",
    "# todo music in google play\n",
    "\n",
    "google_play_store['Genres'] = google_play_store['Genres'].str.split(';').str[0]\n",
    "\n",
    "google_play_store['Genres'].replace('Music & Audio', 'Music', inplace = True)\n",
    "google_play_store['Genres'].replace('Music & Video', 'Music', inplace = True)\n",
    "\n",
    "#google_play_store['Category'].replace('Music & Video', 'Music', inplace = True)\n",
    "#google_play_store['Category'].replace(' ', 'Music', inplace = True) #saffssdafsdsfsdfsdfdsfdsfsdfsdfsfsd\n",
    "\n",
    "google_play_store['Category'].replace('GAME', 'Games', inplace = True)\n",
    "google_play_store['Category'].replace('PRODUCTIVITY', 'Productivity', inplace = True)\n",
    "google_play_store['Category'].replace('WEATHER', 'Weather', inplace = True)\n",
    "google_play_store['Category'].replace('SHOPPING', 'Shopping', inplace = True)\n",
    "google_play_store['Category'].replace('FINANCE', 'Finance', inplace = True)\n",
    "google_play_store['Category'].replace('TOOLS', 'Utilities', inplace = True)\n",
    "google_play_store['Category'].replace('PERSONALIZATION', 'Utilities', inplace = True)\n",
    "google_play_store['Category'].replace('TRAVEL_AND_LOCAL', 'Travel', inplace = True)\n",
    "google_play_store['Category'].replace('SOCIAL', 'Social Networking', inplace = True)\n",
    "google_play_store['Category'].replace('DATING', 'Social Networking', inplace = True)\n",
    "google_play_store['Category'].replace('COMMUNICATION', 'Social Networking', inplace = True)\n",
    "google_play_store['Category'].replace('SPORTS', 'Sports', inplace = True)\n",
    "google_play_store['Category'].replace('BUSINESS', 'Business', inplace = True)\n",
    "google_play_store['Category'].replace('HEALTH_AND_FITNESS', 'Health & Fitness', inplace = True)\n",
    "google_play_store['Category'].replace('BEAUTY', 'Health & Fitness', inplace = True)\n",
    "google_play_store['Category'].replace('ENTERTAINMENT', 'Entertainment', inplace = True)\n",
    "google_play_store['Category'].replace('COMICS', 'Entertainment', inplace = True)\n",
    "google_play_store['Category'].replace('VIDEO_PLAYERS', 'Photo & Video', inplace = True)\n",
    "google_play_store['Category'].replace('PHOTOGRAPHY', 'Photo & Video', inplace = True)\n",
    "google_play_store['Category'].replace('ART_AND_DESIGN', 'Photo & Video', inplace = True)\n",
    "google_play_store['Category'].replace('MAPS_AND_NAVIGATION', 'Navigation', inplace = True)\n",
    "google_play_store['Category'].replace('EDUCATION', 'Education', inplace = True)\n",
    "google_play_store['Category'].replace('PARENTING', 'Education', inplace = True)\n",
    "google_play_store['Category'].replace('LIFESTYLE', 'Lifestyle', inplace = True)\n",
    "google_play_store['Category'].replace('EVENTS', 'Lifestyle', inplace = True)\n",
    "google_play_store['Category'].replace('HOUSE_AND_HOME', 'Lifestyle', inplace = True)\n",
    "google_play_store['Category'].replace('AUTO_AND_VEHICLES', 'Lifestyle', inplace = True)\n",
    "google_play_store['Category'].replace('FAMILY', 'Lifestyle', inplace = True)\n",
    "google_play_store['Category'].replace('FOOD_AND_DRINK', 'Food & Drink', inplace = True)\n",
    "google_play_store['Category'].replace('NEWS_AND_MAGAZINES', 'News', inplace = True)\n",
    "google_play_store['Category'].replace('MEDICAL', 'Medical', inplace = True)\n",
    "google_play_store['Category'].replace('LIBRARIES_AND_DEMO', 'Catalogs', inplace = True)\n",
    "\n",
    "\n",
    "apple_store.prime_genre.replace('Book', 'Books & Reference', inplace = True)\n",
    "apple_store.prime_genre.replace('Reference', 'Books & Reference', inplace = True)\n",
    "google_play_store['Category'].replace('BOOKS_AND_REFERENCE', 'Books & Reference', inplace = True)\n",
    "\n"
   ]
  },
  {
   "cell_type": "code",
   "execution_count": null,
   "metadata": {},
   "outputs": [],
   "source": [
    "# music apps for google play\n",
    "\n",
    "for i in range(len(google_play_store['Genres'])):\n",
    "    if google_play_store['Genres'].iloc[i] == 'Music':\n",
    "        google_play_store['Category'].iloc[i] = 'Music'\n",
    "    else:\n",
    "        continue\n",
    "\n",
    "#google_play_store['Category'] == 'Music'"
   ]
  },
  {
   "cell_type": "code",
   "execution_count": null,
   "metadata": {
    "pycharm": {
     "name": "#%%\n"
    }
   },
   "outputs": [],
   "source": [
    "#google_play_store[google_play_store['price'] > 60] # uncomment and run to see all expensive apps\n",
    "#apple_store[google_play_store['price'] > 60]"
   ]
  },
  {
   "cell_type": "code",
   "execution_count": null,
   "metadata": {},
   "outputs": [],
   "source": [
    "google_play_store[\"rating\"] = google_play_store[\"rating\"].fillna(google_play_store[\"rating\"].median())\n",
    "#replacing all NaN values with median of column 'rating'"
   ]
  },
  {
   "cell_type": "code",
   "execution_count": null,
   "metadata": {
    "pycharm": {
     "name": "#%%\n"
    }
   },
   "outputs": [],
   "source": [
    "# all apps with price above 110 is just \"i am rich\" and \"most expensive app\" so i think we can easily remove them\n",
    "google_play_store = google_play_store[google_play_store['price'] <= 80]\n",
    "apple_store = apple_store[apple_store['price'] <= 80]"
   ]
  },
  {
   "cell_type": "code",
   "execution_count": null,
   "metadata": {},
   "outputs": [],
   "source": [
    "# top rated apps for apple store where amount of reviews is more than 300\n",
    "apple_top = apple_store[(apple_store[\"rating_count_total\"] > 300) & (apple_store[\"rating\"] >= 4.9)].sort_values(by=[\"rating_count_total\"])"
   ]
  },
  {
   "cell_type": "code",
   "execution_count": null,
   "metadata": {},
   "outputs": [],
   "source": [
    "# top rated apps for google play store where amount of reviews is more than 300\n",
    "google_play_top = google_play_store[(google_play_store[\"rating_count_total\"] > 300) & (google_play_store[\"rating\"] >= 4.9)].sort_values(by=[\"rating_count_total\"])"
   ]
  },
  {
   "cell_type": "markdown",
   "metadata": {
    "pycharm": {
     "name": "#%% md\n"
    }
   },
   "source": [
    "#### After cells above:\n",
    "    google_play_store :\n",
    "        * reviews, installs are now type:int32\n",
    "        * rating, size, price are now type:float\n",
    "        * size now is int and it is in bytes\n",
    "        * rating - plus \"+\" sign removed\n",
    "        * junk/scam apps like \"i am rich\" with price 400 removed\n",
    "        \n",
    "    apple_store : (нехватает конечно количества скачиваний но можно написать примерное количество исходя из соотношения кол-ва оценок/кол-во скачиваний в гуглплэй)\n",
    "        *\n",
    "\n",
    "#### Cell bellow is for playing with dataframes"
   ]
  },
  {
   "cell_type": "code",
   "execution_count": null,
   "metadata": {
    "pycharm": {
     "name": "#%%\n"
    }
   },
   "outputs": [],
   "source": [
    "%matplotlib notebook\n",
    "\n",
    "paid_apps_google = google_play_store[(google_play_store['price'] != 0.0)].fillna(0)\n",
    "df1 = paid_apps_google.groupby(\"price\").mean()\n",
    "\n",
    "df2 = google_play_store[google_play_store['rating'].notna()].groupby(\"price\").mean()\n",
    "plt.title(\"Google play store grouped by price\")\n",
    "plt.ylabel('rating count')\n",
    "plt.xlabel('price')\n",
    "\n",
    "plt.ticklabel_format(style='plain')\n",
    "plt.plot(df2.index, df2['installs'])"
   ]
  },
  {
   "cell_type": "code",
   "execution_count": null,
   "metadata": {
    "pycharm": {
     "name": "#%%\n"
    }
   },
   "outputs": [],
   "source": [
    "%matplotlib notebook\n",
    "\n",
    "paid_apps_apple = apple_store[(apple_store['price'] != 0.0) & apple_store['rating'] > 0.0] \n",
    "df3 = paid_apps_apple.groupby(\"price\").mean()\n",
    "\n",
    "\n",
    "df4 = apple_store.groupby(\"price\").mean()\n",
    "plt.title(\"Apple Store grouped by price\")\n",
    "plt.xlabel('price')\n",
    "plt.ylabel('rating count')\n",
    "\n",
    "plt.ticklabel_format(style='plain')\n",
    "plt.plot(df4.index, df4['rating_count_total'])"
   ]
  },
  {
   "cell_type": "code",
   "execution_count": null,
   "metadata": {
    "pycharm": {
     "name": "#%%\n"
    }
   },
   "outputs": [],
   "source": [
    "pd.set_option('display.max_rows', None)"
   ]
  },
  {
   "cell_type": "code",
   "execution_count": null,
   "metadata": {},
   "outputs": [],
   "source": [
    "%matplotlib notebook\n",
    "\n",
    "plt.ticklabel_format(style='plain')\n",
    "sns.histplot(df1['rating'], kde=True, color='blue')\n",
    "sns.histplot(df3['rating'], kde=True, color='orange')"
   ]
  },
  {
   "cell_type": "code",
   "execution_count": null,
   "metadata": {},
   "outputs": [],
   "source": [
    "# some apps occure in table multiple times\n",
    "google_play_store[google_play_store['app'] == 'Minecraft']\n",
    "sns.pairplot(\n",
    "    paid_apps_google,\n",
    "    x_vars=['price', 'rating_count_total','size_bytes', 'installs'], # with 'price' it isn't working ¯\\_(ツ)_/¯\n",
    "    # and if change 'price' with for example  'rating_count_total' it'll give exception that price is not in index\n",
    "    # also first chart isn't showing and i don't know why(if we just remove 'price')\n",
    "    y_vars=[\"rating\", 'price'],\n",
    ")"
   ]
  },
  {
   "cell_type": "code",
   "execution_count": null,
   "metadata": {},
   "outputs": [],
   "source": [
    "sns.pairplot(paid_apps_apple,\n",
    "            x_vars=['price', 'rating_count_total','size_bytes', \"lang.num\"],\n",
    "            y_vars=['rating', 'price'])"
   ]
  },
  {
   "cell_type": "code",
   "execution_count": null,
   "metadata": {},
   "outputs": [],
   "source": [
    "#sorted(apple_store.prime_genre.unique())\n",
    "#sorted(google_play_store['Category'].unique())"
   ]
  }
 ],
 "metadata": {
  "kernelspec": {
   "display_name": "Python 3",
   "language": "python",
   "name": "python3"
  },
  "language_info": {
   "codemirror_mode": {
    "name": "ipython",
    "version": 3
   },
   "file_extension": ".py",
   "mimetype": "text/x-python",
   "name": "python",
   "nbconvert_exporter": "python",
   "pygments_lexer": "ipython3",
   "version": "3.8.6"
  },
  "widgets": {
   "application/vnd.jupyter.widget-state+json": {
    "state": {},
    "version_major": 2,
    "version_minor": 0
   }
  }
 },
 "nbformat": 4,
 "nbformat_minor": 1
}