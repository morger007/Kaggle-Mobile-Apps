{
 "cells": [
  {
   "cell_type": "markdown",
   "metadata": {},
   "source": [
    "## All imports:"
   ]
  },
  {
   "cell_type": "code",
   "execution_count": 1,
   "metadata": {},
   "outputs": [],
   "source": [
    "import pandas as pd\n",
    "import numpy as np\n",
    "import matplotlib.pyplot as plt\n",
    "pd.set_option('display.float_format', lambda x: '%.1f' % x)"
   ]
  },
  {
   "cell_type": "markdown",
   "metadata": {},
   "source": [
    "## Working with data:"
   ]
  },
  {
   "cell_type": "code",
   "execution_count": 2,
   "metadata": {},
   "outputs": [],
   "source": [
    "apple_store = pd.read_csv(\"appstore/AppleStore.csv\")\n",
    "apple_store_desc = pd.read_csv(\"appstore/appleStore_description.csv\")\n",
    "# importing all data for AppStore \n",
    "\n",
    "\n",
    "apple_store = apple_store.drop(['id', 'Unnamed: 0'], axis=1).astype({'size_bytes': 'int64',})\n"
   ]
  },
  {
   "cell_type": "code",
   "execution_count": null,
   "metadata": {},
   "outputs": [],
   "source": [
    "google_play_store = pd.read_csv(\"googleplay/googleplaystore.csv\")\n",
    "google_play_store_reviews = pd.read_csv(\"googleplay/googleplaystore_user_reviews.csv\")\n",
    "# importing all data for GooglePlay\n",
    "\n",
    "\n",
    "for index in google_play_store.index:\n",
    "    size = google_play_store.loc[index, 'Size']\n",
    "    installs = google_play_store.loc[index, 'Installs']\n",
    "    price = google_play_store.loc[index, 'Price']\n",
    "    if installs.find(\"+\") != -1:\n",
    "        google_play_store.loc[index, 'Installs'] = installs[:-1].replace(\",\", \"\")\n",
    "    if size.find(\"M\") != -1:\n",
    "        google_play_store.loc[index, 'Size'] = float(size[:-1]) * 125000 \n",
    "        # removing \"M\" changing type from str to float and converting to bytes \n",
    "    elif size.find(\"k\") != -1:\n",
    "        google_play_store.loc[index, 'Size'] = float(size[:-1]) * 1000 \n",
    "        # removing \"k\" changing type from str to float and converting to bytes \n",
    "    elif size.find('Varies') != -1:\n",
    "        google_play_store.loc[index, 'Size'] = -1\n",
    "    if price.find(\"$\") != -1:\n",
    "        google_play_store.loc[index, 'Price'] = price[1:]\n",
    "        \n",
    "        \n",
    "google_play_store = google_play_store.astype({\"Reviews\": 'int32', \"Rating\": float, \"Installs\": 'int32', \"Size\": float, 'Price': float})\\\n",
    ".rename({'Size': 'size_bytes', 'Reviews': 'rating_count_total', 'Rating': 'rating', 'App': 'app', 'Current Ver': \"ver\", 'Price': 'price', 'Installs': 'installs'}, axis=1)\n"
   ]
  },
  {
   "cell_type": "code",
   "execution_count": null,
   "metadata": {
    "pycharm": {
     "name": "#%%\n"
    }
   },
   "outputs": [],
   "source": [
    "#google_play_store[google_play_store['price'] > 60] # uncomment and run to see all expensive apps"
   ]
  },
  {
   "cell_type": "code",
   "execution_count": null,
   "metadata": {
    "pycharm": {
     "name": "#%%\n"
    }
   },
   "outputs": [],
   "source": [
    "# all apps with price above 110 is just \"i am rich\" and \"most expensive app\" so i think we can easily remove them\n",
    "google_play_store = google_play_store[google_play_store['price'] <= 110]"
   ]
  },
  {
   "cell_type": "markdown",
   "metadata": {
    "pycharm": {
     "name": "#%% md\n"
    }
   },
   "source": [
    "#### After cells above:\n",
    "    google_play_store :\n",
    "        * reviews, installs are now type:int32\n",
    "        * rating, size, price are now type:float\n",
    "        * size now is int and it is in bytes\n",
    "        * rating - plus \"+\" sign removed\n",
    "        * junk/scam apps like \"i am rich\" with price 400 removed\n",
    "        \n",
    "    apple_store : (нехватает конечно количества скачиваний но можно написать примерное количество исходя из соотношения кол-ва оценок/кол-во скачиваний в гуглплэй)\n",
    "        *\n",
    "\n",
    "#### Cell bellow is for playing with dataframes"
   ]
  },
  {
   "cell_type": "code",
   "execution_count": null,
   "metadata": {
    "pycharm": {
     "name": "#%%\n"
    }
   },
   "outputs": [],
   "source": [
    "%matplotlib notebook\n",
    "google_play_store[(google_play_store[\"rating_count_total\"] > 300) & (google_play_store[\"rating\"] >= 4.9)].sort_values(by=[\"rating_count_total\"]) # apps with multiple genres are not in this top\n",
    "\n",
    "\n",
    "paid_apps = google_play_store[google_play_store['price'] != 0.0]\n",
    "df1 = paid_apps.groupby(\"price\").mean()\n",
    "df2 = google_play_store.groupby(\"price\").mean()\n",
    "\n",
    "plt.plot(df2.index, df2['installs'])"
   ]
  },
  {
   "cell_type": "code",
   "execution_count": null,
   "metadata": {
    "pycharm": {
     "name": "#%%\n"
    }
   },
   "outputs": [],
   "source": [
    "apple_store.groupby(\"price\").mean()"
   ]
  },
  {
   "cell_type": "code",
   "execution_count": null,
   "outputs": [],
   "source": [
    "pd.set_option('display.max_rows', None)\n"
   ],
   "metadata": {
    "collapsed": false,
    "pycharm": {
     "name": "#%%\n"
    }
   }
  },
  {
   "cell_type": "code",
   "execution_count": null,
   "metadata": {},
   "outputs": [],
   "source": []
  },
  {
   "cell_type": "code",
   "execution_count": null,
   "metadata": {},
   "outputs": [],
   "source": []
  }
 ],
 "metadata": {
  "kernelspec": {
   "display_name": "Python 3",
   "language": "python",
   "name": "python3"
  },
  "language_info": {
   "codemirror_mode": {
    "name": "ipython",
    "version": 3
   },
   "file_extension": ".py",
   "mimetype": "text/x-python",
   "name": "python",
   "nbconvert_exporter": "python",
   "pygments_lexer": "ipython3",
   "version": "3.7.9"
  },
  "widgets": {
   "application/vnd.jupyter.widget-state+json": {
    "state": {},
    "version_major": 2,
    "version_minor": 0
   }
  }
 },
 "nbformat": 4,
 "nbformat_minor": 1
}